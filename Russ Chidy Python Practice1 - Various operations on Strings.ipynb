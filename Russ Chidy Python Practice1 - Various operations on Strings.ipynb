{
 "cells": [
  {
   "cell_type": "code",
   "execution_count": null,
   "metadata": {},
   "outputs": [],
   "source": [
    "#Everything in Python is an object\n",
    "#Simply put, a mutable object can be changed after it is created, and an immutable object can't.\n",
    "#Objects of built-in types like (int, float, bool, str, tuple, unicode) are immutable. These use normal brackets ()\n",
    "#Objects of built-in types like (list, set, dict) are mutable. Lists use square brackets [], Dicts use curly brackets{}\n",
    "#Custom classes are generally mutable"
   ]
  },
  {
   "cell_type": "code",
   "execution_count": 1,
   "metadata": {},
   "outputs": [
    {
     "data": {
      "text/plain": [
       "'Russell Chidyausiku'"
      ]
     },
     "execution_count": 1,
     "metadata": {},
     "output_type": "execute_result"
    }
   ],
   "source": [
    "# Assigning a string to a variable\n",
    "Name = \"Russell Chidyausiku\"\n",
    "Name"
   ]
  },
  {
   "cell_type": "code",
   "execution_count": 6,
   "metadata": {},
   "outputs": [
    {
     "name": "stdout",
     "output_type": "stream",
     "text": [
      "R\n",
      " \n",
      "C\n"
     ]
    }
   ],
   "source": [
    "#Strings are indexed from 0. In revese order the index -1 is the last character\n",
    "\n",
    "# Print the first element in the string\n",
    "print(Name[0])\n",
    "\n",
    "#print the character at index 7 (in this case index 7 is a blank space)\n",
    "print (Name[7])\n",
    "\n",
    "#print the character at index 8\n",
    "print(Name[8])"
   ]
  },
  {
   "cell_type": "code",
   "execution_count": 4,
   "metadata": {},
   "outputs": [
    {
     "data": {
      "text/plain": [
       "'u'"
      ]
     },
     "execution_count": 4,
     "metadata": {},
     "output_type": "execute_result"
    }
   ],
   "source": [
    "#show me the letter at index 0 in the string variable\n",
    "Name[0]\n",
    "\n",
    "#show me the last letterin the string variable\n",
    "Name[-1]"
   ]
  },
  {
   "cell_type": "code",
   "execution_count": 8,
   "metadata": {},
   "outputs": [
    {
     "data": {
      "text/plain": [
       "'R'"
      ]
     },
     "execution_count": 8,
     "metadata": {},
     "output_type": "execute_result"
    }
   ],
   "source": [
    "# length of a string variable is given by len function\n",
    "\n",
    "len(Name)\n",
    " \n",
    "# in reverse order the negative of the len output gives you the first character at index 0\n",
    "Name[-19]"
   ]
  },
  {
   "cell_type": "code",
   "execution_count": 11,
   "metadata": {},
   "outputs": [
    {
     "data": {
      "text/plain": [
       "18"
      ]
     },
     "execution_count": 11,
     "metadata": {},
     "output_type": "execute_result"
    }
   ],
   "source": [
    "#length of text is also given by len function even is we have not defined a variable\n",
    "len(\"can you count this\")"
   ]
  },
  {
   "cell_type": "code",
   "execution_count": 18,
   "metadata": {},
   "outputs": [
    {
     "data": {
      "text/plain": [
       "6"
      ]
     },
     "execution_count": 18,
     "metadata": {},
     "output_type": "execute_result"
    }
   ],
   "source": [
    "# le does not work for numbers best solution availble is to use len(str(number)) to convert the digit to strings\n",
    "len(str(123456))"
   ]
  },
  {
   "cell_type": "code",
   "execution_count": 19,
   "metadata": {},
   "outputs": [
    {
     "data": {
      "text/plain": [
       "8"
      ]
     },
     "execution_count": 19,
     "metadata": {},
     "output_type": "execute_result"
    }
   ],
   "source": [
    "\n",
    "# or\n",
    "len(\"12345678\")"
   ]
  },
  {
   "cell_type": "code",
   "execution_count": 20,
   "metadata": {},
   "outputs": [
    {
     "data": {
      "text/plain": [
       "'Russell Chidyausiku'"
      ]
     },
     "execution_count": 20,
     "metadata": {},
     "output_type": "execute_result"
    }
   ],
   "source": [
    "Name"
   ]
  },
  {
   "cell_type": "code",
   "execution_count": 22,
   "metadata": {},
   "outputs": [
    {
     "data": {
      "text/plain": [
       "'RussChidy'"
      ]
     },
     "execution_count": 22,
     "metadata": {},
     "output_type": "execute_result"
    }
   ],
   "source": [
    "#using index numbes to slicing up sections of strings, start at the first index number and end with the one you dont want to include, remember indexes start at 0\n",
    "Name[0:4]+Name[8:13]"
   ]
  },
  {
   "cell_type": "code",
   "execution_count": 23,
   "metadata": {},
   "outputs": [
    {
     "data": {
      "text/plain": [
       "'Russ Chidy'"
      ]
     },
     "execution_count": 23,
     "metadata": {},
     "output_type": "execute_result"
    }
   ],
   "source": [
    "Name[0:4]+Name[7:13]"
   ]
  },
  {
   "cell_type": "code",
   "execution_count": 24,
   "metadata": {},
   "outputs": [
    {
     "data": {
      "text/plain": [
       "'RselCiyuiu'"
      ]
     },
     "execution_count": 24,
     "metadata": {},
     "output_type": "execute_result"
    }
   ],
   "source": [
    "#Strides -We can also input a stride value to stride or jump at regular intervals across the string. For example, with a '2' stride across the WHOLE string\n",
    "Name[::2]"
   ]
  },
  {
   "cell_type": "code",
   "execution_count": 25,
   "metadata": {},
   "outputs": [
    {
     "data": {
      "text/plain": [
       "'Ciyuiu'"
      ]
     },
     "execution_count": 25,
     "metadata": {},
     "output_type": "execute_result"
    }
   ],
   "source": [
    "#Strides -We can also input a stride value to stride or jump at regular intervals across a PORTION of the string. e.g for a 2 stride from index 8 to the end\n",
    "Name[8::2]"
   ]
  },
  {
   "cell_type": "code",
   "execution_count": 30,
   "metadata": {},
   "outputs": [
    {
     "data": {
      "text/plain": [
       "'ReCyi'"
      ]
     },
     "execution_count": 30,
     "metadata": {},
     "output_type": "execute_result"
    }
   ],
   "source": [
    "#Strides -We can also input a stride value to stride or jump at regular intervals across a PORTION of the string.e.g in strides of 4\n",
    "Name[0:17:4]"
   ]
  },
  {
   "cell_type": "code",
   "execution_count": 34,
   "metadata": {},
   "outputs": [
    {
     "data": {
      "text/plain": [
       "'Russell Chidyausiku (FRM)'"
      ]
     },
     "execution_count": 34,
     "metadata": {},
     "output_type": "execute_result"
    }
   ],
   "source": [
    "# Concatenate two string variables or strings\n",
    "Title=\"(FRM)\"\n",
    "Name+\" \"+Title\n",
    "\n"
   ]
  },
  {
   "cell_type": "code",
   "execution_count": 35,
   "metadata": {},
   "outputs": [
    {
     "data": {
      "text/plain": [
       "'Russell ChidyausikuRussell ChidyausikuRussell Chidyausiku'"
      ]
     },
     "execution_count": 35,
     "metadata": {},
     "output_type": "execute_result"
    }
   ],
   "source": [
    "#you can multiply strings\n",
    "Name*3"
   ]
  },
  {
   "cell_type": "code",
   "execution_count": 37,
   "metadata": {},
   "outputs": [
    {
     "name": "stdout",
     "output_type": "stream",
     "text": [
      "Russell\n",
      "Chidyausiku\n"
     ]
    }
   ],
   "source": [
    "# Escape Sequences: Back slashes represent the beginning of escape sequences when using the Print function.\n",
    "# Escape sequences represent strings that may be difficult to input. \n",
    "# For example, back slash \"n\" represents a new line. The output is given by a new line after the back slash \"n\" is encountered:\n",
    "\n",
    "print(\"Russell\\nChidyausiku\")"
   ]
  },
  {
   "cell_type": "code",
   "execution_count": 38,
   "metadata": {},
   "outputs": [
    {
     "name": "stdout",
     "output_type": "stream",
     "text": [
      "Russell\tChidyausiku\n"
     ]
    }
   ],
   "source": [
    "#back slash \"t\" represents a new tab section. The output is given by a new tab section after the back slash \"t\" is encountered:\n",
    "print(\"Russell\\tChidyausiku\")"
   ]
  },
  {
   "cell_type": "code",
   "execution_count": 39,
   "metadata": {},
   "outputs": [
    {
     "name": "stdout",
     "output_type": "stream",
     "text": [
      "Russell Chidyausiku \\FRM\n"
     ]
    }
   ],
   "source": [
    "#If you want to place a back slash in your string, use a double back slash:\n",
    "print(\"Russell Chidyausiku \\\\FRM\")"
   ]
  },
  {
   "cell_type": "code",
   "execution_count": 42,
   "metadata": {},
   "outputs": [
    {
     "name": "stdout",
     "output_type": "stream",
     "text": [
      "Russell \\FRM\n"
     ]
    }
   ],
   "source": [
    "# We can also place an \"r\" before the string to display the backslash. r will tell python \n",
    "# r will tell python that string will be displayed as \"raw string\"\n",
    "\n",
    "print (r\"Russell \\FRM\")"
   ]
  },
  {
   "cell_type": "code",
   "execution_count": 46,
   "metadata": {},
   "outputs": [
    {
     "name": "stdout",
     "output_type": "stream",
     "text": [
      "RUSSELL CHIDYAUSIKU\n"
     ]
    }
   ],
   "source": [
    "#printing a string variable in upper case\n",
    "print(Name.upper())"
   ]
  },
  {
   "cell_type": "code",
   "execution_count": 48,
   "metadata": {},
   "outputs": [
    {
     "name": "stdout",
     "output_type": "stream",
     "text": [
      "russell chidyausiku\n"
     ]
    }
   ],
   "source": [
    "#printing a string variable in lower case\n",
    "print(Name.lower())"
   ]
  },
  {
   "cell_type": "code",
   "execution_count": 61,
   "metadata": {},
   "outputs": [
    {
     "data": {
      "text/plain": [
       "'russell chidyausiku'"
      ]
     },
     "execution_count": 61,
     "metadata": {},
     "output_type": "execute_result"
    }
   ],
   "source": [
    "#showing a string variable converted into lower case, this doesnt actually convert the stored variable since striings are immutable\n",
    "Name.lower()"
   ]
  },
  {
   "cell_type": "code",
   "execution_count": 54,
   "metadata": {},
   "outputs": [
    {
     "name": "stdout",
     "output_type": "stream",
     "text": [
      "False\n",
      "True\n"
     ]
    }
   ],
   "source": [
    "# use isupper or islower to check to the caps settings of ALL characters in a string variable\n",
    "# these case-checking functions do not take any arguments, and therefore will return error msgs if a parameter is passed.\n",
    "#you just close the statemment with empty brackets\n",
    "#2 methods can be used with outwithout using a print statement; without print below\n",
    "\n",
    "NameUppercase=\"RUSSELL CHIDYAUSIKU\"\n",
    "\n",
    "NameUppercase.islower()\n",
    "NameUppercase.isupper()"
   ]
  },
  {
   "cell_type": "code",
   "execution_count": 55,
   "metadata": {},
   "outputs": [
    {
     "name": "stdout",
     "output_type": "stream",
     "text": [
      "False\n",
      "True\n"
     ]
    }
   ],
   "source": [
    "#using case-checking funtions with print\n",
    "print(NameUppercase.islower())\n",
    "print(NameUppercase.isupper())"
   ]
  },
  {
   "cell_type": "code",
   "execution_count": 59,
   "metadata": {},
   "outputs": [
    {
     "data": {
      "text/plain": [
       "'Russell Chidyausiku'"
      ]
     },
     "execution_count": 59,
     "metadata": {},
     "output_type": "execute_result"
    }
   ],
   "source": [
    "Name"
   ]
  },
  {
   "cell_type": "code",
   "execution_count": 60,
   "metadata": {},
   "outputs": [
    {
     "data": {
      "text/plain": [
       "3"
      ]
     },
     "execution_count": 60,
     "metadata": {},
     "output_type": "execute_result"
    }
   ],
   "source": [
    "#.count is used to count characters or complete words in a string\n",
    "Name.count(\"s\")"
   ]
  },
  {
   "cell_type": "code",
   "execution_count": 62,
   "metadata": {},
   "outputs": [
    {
     "data": {
      "text/plain": [
       "'IBM is the best.'"
      ]
     },
     "execution_count": 62,
     "metadata": {},
     "output_type": "execute_result"
    }
   ],
   "source": [
    "#replacing words or characters in strings\n",
    "a=\"IBM is the best.\"\n",
    "a"
   ]
  },
  {
   "cell_type": "code",
   "execution_count": 63,
   "metadata": {},
   "outputs": [
    {
     "data": {
      "text/plain": [
       "'Xrossglobal is the best.'"
      ]
     },
     "execution_count": 63,
     "metadata": {},
     "output_type": "execute_result"
    }
   ],
   "source": [
    "#use replace to change string components\n",
    "a.replace(\"IBM\",\"Xrossglobal\")"
   ]
  },
  {
   "cell_type": "code",
   "execution_count": 64,
   "metadata": {},
   "outputs": [
    {
     "data": {
      "text/plain": [
       "'IBM is the best.'"
      ]
     },
     "execution_count": 64,
     "metadata": {},
     "output_type": "execute_result"
    }
   ],
   "source": [
    "a"
   ]
  },
  {
   "cell_type": "code",
   "execution_count": 65,
   "metadata": {},
   "outputs": [],
   "source": [
    "#you can also define a new variable created through modifying components in an existing variable\n",
    "b=a.replace(\"best\",\"worst\")"
   ]
  },
  {
   "cell_type": "code",
   "execution_count": 66,
   "metadata": {},
   "outputs": [
    {
     "data": {
      "text/plain": [
       "'IBM is the worst.'"
      ]
     },
     "execution_count": 66,
     "metadata": {},
     "output_type": "execute_result"
    }
   ],
   "source": [
    "b"
   ]
  },
  {
   "cell_type": "code",
   "execution_count": 67,
   "metadata": {},
   "outputs": [
    {
     "data": {
      "text/plain": [
       "'IBM is the best.'"
      ]
     },
     "execution_count": 67,
     "metadata": {},
     "output_type": "execute_result"
    }
   ],
   "source": [
    "a"
   ]
  },
  {
   "cell_type": "code",
   "execution_count": 68,
   "metadata": {},
   "outputs": [
    {
     "data": {
      "text/plain": [
       "'IBM iz the bezt.'"
      ]
     },
     "execution_count": 68,
     "metadata": {},
     "output_type": "execute_result"
    }
   ],
   "source": [
    "#replace a substring directly\n",
    "a.replace(\"s\",\"z\")"
   ]
  },
  {
   "cell_type": "code",
   "execution_count": 69,
   "metadata": {},
   "outputs": [
    {
     "data": {
      "text/plain": [
       "17"
      ]
     },
     "execution_count": 69,
     "metadata": {},
     "output_type": "execute_result"
    }
   ],
   "source": [
    "#find a letter and return its index position\n",
    "Name.find(\"k\")"
   ]
  },
  {
   "cell_type": "code",
   "execution_count": 70,
   "metadata": {},
   "outputs": [
    {
     "data": {
      "text/plain": [
       "7"
      ]
     },
     "execution_count": 70,
     "metadata": {},
     "output_type": "execute_result"
    }
   ],
   "source": [
    "#find a word and return the first letter or characters index position\n",
    "a.find(\"the\")"
   ]
  },
  {
   "cell_type": "code",
   "execution_count": 71,
   "metadata": {},
   "outputs": [
    {
     "data": {
      "text/plain": [
       "-1"
      ]
     },
     "execution_count": 71,
     "metadata": {},
     "output_type": "execute_result"
    }
   ],
   "source": [
    "# if the sub-string is not found in the string then the output is a negative 1 (-1)\n",
    "a.find(\"hero\")"
   ]
  },
  {
   "cell_type": "code",
   "execution_count": null,
   "metadata": {},
   "outputs": [],
   "source": []
  }
 ],
 "metadata": {
  "kernelspec": {
   "display_name": "Python 3",
   "language": "python",
   "name": "python3"
  },
  "language_info": {
   "codemirror_mode": {
    "name": "ipython",
    "version": 3
   },
   "file_extension": ".py",
   "mimetype": "text/x-python",
   "name": "python",
   "nbconvert_exporter": "python",
   "pygments_lexer": "ipython3",
   "version": "3.7.3"
  }
 },
 "nbformat": 4,
 "nbformat_minor": 2
}
